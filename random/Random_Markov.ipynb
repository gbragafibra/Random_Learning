{
 "cells": [
  {
   "cell_type": "code",
   "execution_count": 1,
   "id": "2dc44f8e-4794-4813-a522-5ee8f4973ca9",
   "metadata": {},
   "outputs": [],
   "source": [
    "import numpy as np\n",
    "import matplotlib.pyplot as plt"
   ]
  },
  {
   "cell_type": "code",
   "execution_count": 2,
   "id": "6123bc56-20f1-4f75-8c30-45bafc57689d",
   "metadata": {},
   "outputs": [],
   "source": [
    "# Defining RK4\n",
    "\n",
    "def integ_rk4(f, x_i, x_f, initial_conds, N):\n",
    "    h = (x_f - x_i)/N\n",
    "    def rk4(f, x, y, h):\n",
    "        k1 = h * f(x, y, params)\n",
    "        k2 = h * f(x + h/2, y + k1/2, params)\n",
    "        k3 = h * f(x + h/2, y + k2/2, params)\n",
    "        k4 = h * f(x + h, y + k3, params)\n",
    "        return (k1 + 2 * k2 + 2 * k3 + k4) / 6.0\n",
    "    \n",
    "    x_vals = np.arange(x_i, x_f, h)\n",
    "\n",
    "    y = np.zeros((N, len(initial_conds)))\n",
    "    y[0] = initial_conds\n",
    "\n",
    "    for i in range(N - 1):\n",
    "        y[i + 1] = y[i] + rk4(f, x_vals[i], y[i], h)\n",
    "\n",
    "    return x_vals, y"
   ]
  },
  {
   "cell_type": "code",
   "execution_count": 3,
   "id": "dc0817db-eb0a-4b1e-ab17-7b33f8c90396",
   "metadata": {},
   "outputs": [],
   "source": [
    "states = np.array([i for i in range(1,11)]) #Defining the states\n",
    "pi_0 = np.random.uniform(0,1,10) #Initial distribution (Non-normalized)\n",
    "pi_0_normalized = [i/sum(pi_0) for i in pi_0] #Normalized"
   ]
  },
  {
   "cell_type": "markdown",
   "id": "7ea96cae-a4f5-4423-b24a-995e955786eb",
   "metadata": {},
   "source": [
    "We are working with\n",
    "$$\n",
    "\\frac{dp(n)}{dt} = \\alpha p(n-1) - \\delta n p(n) - \\alpha p(n) + \\delta (n+1) p(n+1)\n",
    "$$\n",
    "so our function will be"
   ]
  },
  {
   "cell_type": "code",
   "execution_count": 23,
   "id": "ec5fb5e0-6747-4669-a62b-c28ab07cb02f",
   "metadata": {},
   "outputs": [],
   "source": [
    "alpha = 0.6\n",
    "delta = 0.4\n",
    "params = [alpha, delta]\n",
    "\n",
    "def F(x, y, params):\n",
    "    F = np.zeros(len(y))\n",
    "    for i in range(0,len(F) - 1):\n",
    "        if i == 0:\n",
    "            F[i] = - params[1] * (i+1) * y[i] - params[0] * y[i-1] + params[1] * (i+2) * y[i+1]\n",
    "\n",
    "        elif i == len(F):\n",
    "            F[i] = params[0] * y[i-1] - params[1] * (i+1) * y[i] - params[0] * y[i]      \n",
    "            \n",
    "        else:\n",
    "            F[i] = params[0] * y[i-1] - params[1] * (i+1) * y[i] - params[0] * y[i] + params[1] * (i+2) * y[i+1]\n",
    "\n",
    "\n",
    "    return F"
   ]
  },
  {
   "cell_type": "code",
   "execution_count": 24,
   "id": "796f6218-9feb-48c3-ae33-11ad002c7850",
   "metadata": {},
   "outputs": [],
   "source": [
    "t_i = 0\n",
    "t_f = 10\n",
    "N = 100\n",
    "\n",
    "t, p = integ_rk4(F, t_i, t_f, pi_0_normalized, N)"
   ]
  },
  {
   "cell_type": "code",
   "execution_count": 25,
   "id": "421938a5-5416-4857-bf2a-8966ca2d02da",
   "metadata": {},
   "outputs": [
    {
     "data": {
      "text/plain": [
       "<matplotlib.legend.Legend at 0x7f85a75c7430>"
      ]
     },
     "execution_count": 25,
     "metadata": {},
     "output_type": "execute_result"
    },
    {
     "data": {
      "image/png": "[encoded data removed]",
      "text/plain": [
       "<Figure size 640x480 with 1 Axes>"
      ]
     },
     "metadata": {},
     "output_type": "display_data"
    }
   ],
   "source": [
    "plt.hist(states, bins = 10, weights= p[0,:], width = 0.5,align=\"left\", color = \"blue\", alpha=0.2, label = \"$\\\\pi_{0}$\")\n",
    "plt.hist(states, bins = 10, weights= p[50,:], width = 0.5, align=\"left\", color = \"green\", alpha=0.2, label = \"$\\\\pi_{50}$\")\n",
    "plt.hist(states, bins = 10, weights= p[99,:], width = 0.5, align=\"left\", color = \"red\", alpha=0.2, label = \"$\\\\pi_{100}$\")\n",
    "plt.xlabel(\"State\")\n",
    "plt.ylabel(\"Probability of such state\")\n",
    "plt.legend()"
   ]
  }
 ],
 "metadata": {
  "kernelspec": {
   "display_name": "Python 3 (ipykernel)",
   "language": "python",
   "name": "python3"
  },
  "language_info": {
   "codemirror_mode": {
    "name": "ipython",
    "version": 3
   },
   "file_extension": ".py",
   "mimetype": "text/x-python",
   "name": "python",
   "nbconvert_exporter": "python",
   "pygments_lexer": "ipython3",
   "version": "3.10.13"
  }
 },
 "nbformat": 4,
 "nbformat_minor": 5
}
