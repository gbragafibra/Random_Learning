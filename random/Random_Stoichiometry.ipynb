{
 "cells": [
  {
   "cell_type": "code",
   "execution_count": 1,
   "id": "dc3865e6-e2f8-4094-a954-ae8a5fc6b832",
   "metadata": {},
   "outputs": [],
   "source": [
    "using LinearAlgebra"
   ]
  },
  {
   "cell_type": "code",
   "execution_count": 4,
   "id": "a4d09d84-c61c-4e2e-a2ac-aa95e1b0951b",
   "metadata": {},
   "outputs": [
    {
     "data": {
      "text/plain": [
       "4×7 Matrix{Int64}:\n",
       " 1  -1  -1  -1   0   0   0\n",
       " 0   2   0   0  -2  -1   0\n",
       " 0   0   1  -1   1   0   0\n",
       " 0   0   0   1   0   0  -1"
      ]
     },
     "execution_count": 4,
     "metadata": {},
     "output_type": "execute_result"
    }
   ],
   "source": [
    "N = [1 -1 -1 -1 0 0 0; 0 2 0 0 -2 -1 0;\n",
    "    0 0 1 -1 1 0 0; 0 0 0 1 0 0 -1]"
   ]
  },
  {
   "cell_type": "markdown",
   "id": "bfc52bef-5a47-4bcb-bbe5-dbc48c5b8a52",
   "metadata": {},
   "source": [
    "We have that $\\frac{d\\mathbf{X}}{dt} = \\mathbf{Nv}$. Furthermore, we can rearrange this matrix into dependent and independent reactions. Such that $\\mathbf{N} = [\\mathbf{N_{D}}|\\mathbf{N_{I}}]$."
   ]
  },
  {
   "cell_type": "code",
   "execution_count": 6,
   "id": "7bd8e5f8-0000-4dfc-81c0-211fda9dc272",
   "metadata": {},
   "outputs": [
    {
     "data": {
      "text/plain": [
       "4×7 Matrix{Int64}:\n",
       " -1  -1   0  1  -1   0   0\n",
       "  2   0  -2  0   0  -1   0\n",
       "  0  -1   1  0   1   0   0\n",
       "  0   1   0  0   0   0  -1"
      ]
     },
     "execution_count": 6,
     "metadata": {},
     "output_type": "execute_result"
    }
   ],
   "source": [
    "order = [2, 4, 5, 1, 3, 6, 7]\n",
    "N_new = N[:, order]"
   ]
  }
 ],
 "metadata": {
  "kernelspec": {
   "display_name": "Julia 1.9.4",
   "language": "julia",
   "name": "julia-1.9"
  },
  "language_info": {
   "file_extension": ".jl",
   "mimetype": "application/julia",
   "name": "julia",
   "version": "1.9.4"
  }
 },
 "nbformat": 4,
 "nbformat_minor": 5
}
