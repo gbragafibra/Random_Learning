{
 "cells": [
  {
   "cell_type": "code",
   "execution_count": 1,
   "id": "dc3865e6-e2f8-4094-a954-ae8a5fc6b832",
   "metadata": {},
   "outputs": [],
   "source": [
    "using LinearAlgebra"
   ]
  },
  {
   "cell_type": "code",
   "execution_count": 2,
   "id": "a4d09d84-c61c-4e2e-a2ac-aa95e1b0951b",
   "metadata": {},
   "outputs": [
    {
     "data": {
      "text/plain": [
       "4×7 Matrix{Int64}:\n",
       " 1  -1  -1  -1   0   0   0\n",
       " 0   2   0   0  -2  -1   0\n",
       " 0   0   1  -1   1   0   0\n",
       " 0   0   0   1   0   0  -1"
      ]
     },
     "execution_count": 2,
     "metadata": {},
     "output_type": "execute_result"
    }
   ],
   "source": [
    "N = [1 -1 -1 -1 0 0 0; 0 2 0 0 -2 -1 0;\n",
    "    0 0 1 -1 1 0 0; 0 0 0 1 0 0 -1]"
   ]
  },
  {
   "cell_type": "markdown",
   "id": "bfc52bef-5a47-4bcb-bbe5-dbc48c5b8a52",
   "metadata": {},
   "source": [
    "We have that $\\frac{d\\mathbf{X}}{dt} = \\mathbf{Nv}$. Furthermore, we can rearrange this matrix into dependent and independent reactions. Such that $\\mathbf{N} = [\\mathbf{N_{D}}|\\mathbf{N_{I}}]$."
   ]
  },
  {
   "cell_type": "code",
   "execution_count": 3,
   "id": "7bd8e5f8-0000-4dfc-81c0-211fda9dc272",
   "metadata": {},
   "outputs": [
    {
     "data": {
      "text/plain": [
       "4×7 Matrix{Int64}:\n",
       " -1  -1   0  1  -1   0   0\n",
       "  2   0  -2  0   0  -1   0\n",
       "  0  -1   1  0   1   0   0\n",
       "  0   1   0  0   0   0  -1"
      ]
     },
     "execution_count": 3,
     "metadata": {},
     "output_type": "execute_result"
    }
   ],
   "source": [
    "order = [2, 4, 5, 1, 3, 6, 7]\n",
    "N_new = N[:, order]"
   ]
  },
  {
   "cell_type": "code",
   "execution_count": 4,
   "id": "1f480c5a-f6f0-4f35-a4c4-d81f475ce8ae",
   "metadata": {},
   "outputs": [
    {
     "data": {
      "text/plain": [
       "4×4 Matrix{Int64}:\n",
       " 1  -1   0   0\n",
       " 0   0  -1   0\n",
       " 0   1   0   0\n",
       " 0   0   0  -1"
      ]
     },
     "execution_count": 4,
     "metadata": {},
     "output_type": "execute_result"
    }
   ],
   "source": [
    "N_depend = N_new[:, [1, 2, 3]]\n",
    "N_independ = N_new[:, [4, 5, 6, 7]]"
   ]
  },
  {
   "cell_type": "markdown",
   "id": "b80a2d4a-97ca-45aa-b72b-361e99561773",
   "metadata": {},
   "source": [
    "We also know that the dependent fluxes would be given by\n",
    "$$\n",
    "\\mathbf{v_{D}} = - \\mathbf{N_{D}^{+}}\\mathbf{N_{I}}\\mathbf{v_{I}}\n",
    "$$\n",
    "where $\\mathbf{N_{D}^{+}} = (\\mathbf{N_{D}^{T}}\\mathbf{N_{D}})^{-1}\\mathbf{N_{D}^{T}}$"
   ]
  },
  {
   "cell_type": "code",
   "execution_count": 5,
   "id": "1fe4a9d1-d860-4d2b-aef0-f1fd3c7f0e1a",
   "metadata": {},
   "outputs": [
    {
     "ename": "LoadError",
     "evalue": "DimensionMismatch: matrix is not square: dimensions are (4, 3)",
     "output_type": "error",
     "traceback": [
      "DimensionMismatch: matrix is not square: dimensions are (4, 3)",
      "",
      "Stacktrace:",
      " [1] checksquare",
      "   @ ~/julia-1.9.4/share/julia/stdlib/v1.9/LinearAlgebra/src/LinearAlgebra.jl:239 [inlined]",
      " [2] inv(A::Matrix{Int64})",
      "   @ LinearAlgebra ~/julia-1.9.4/share/julia/stdlib/v1.9/LinearAlgebra/src/dense.jl:909",
      " [3] top-level scope",
      "   @ In[5]:1"
     ]
    }
   ],
   "source": [
    "inv(N_depend)"
   ]
  },
  {
   "cell_type": "markdown",
   "id": "85d8745a-def4-46b7-9471-53c00c2e9952",
   "metadata": {},
   "source": [
    "Given that $\\mathbf{N_{D}}$ isn't square need pseudo inverse."
   ]
  },
  {
   "cell_type": "code",
   "execution_count": 6,
   "id": "cbe4930c-06d6-47b4-9114-63090dbd66a5",
   "metadata": {},
   "outputs": [
    {
     "data": {
      "text/plain": [
       "4×3 Matrix{Float64}:\n",
       "  1.0   1.0  -0.0\n",
       " -2.0  -0.0   2.0\n",
       " -0.0   1.0  -1.0\n",
       " -0.0  -1.0  -0.0"
      ]
     },
     "execution_count": 6,
     "metadata": {},
     "output_type": "execute_result"
    }
   ],
   "source": [
    "N_D_plus = inv(dot(transpose(N_depend), N_depend)) * N_depend\n",
    "#Something wrong here"
   ]
  },
  {
   "cell_type": "code",
   "execution_count": 7,
   "id": "c30a320d-b1ca-40e7-b02e-2d5f33b7693a",
   "metadata": {},
   "outputs": [
    {
     "data": {
      "text/plain": [
       "3×4 Matrix{Float64}:\n",
       " -0.52   0.24   0.48  -0.04\n",
       " -0.32  -0.16  -0.32   0.36\n",
       " -0.48  -0.24   0.52   0.04"
      ]
     },
     "execution_count": 7,
     "metadata": {},
     "output_type": "execute_result"
    }
   ],
   "source": [
    "N_D_plus2 = pinv(N_depend) #Lets take this one as the pseudo inverse"
   ]
  },
  {
   "cell_type": "code",
   "execution_count": 8,
   "id": "e89b09d4-16c9-4754-a272-687f5f4f571f",
   "metadata": {},
   "outputs": [
    {
     "ename": "LoadError",
     "evalue": "DimensionMismatch: first array has length 12 which does not match the length of the second, 16.",
     "output_type": "error",
     "traceback": [
      "DimensionMismatch: first array has length 12 which does not match the length of the second, 16.",
      "",
      "Stacktrace:",
      " [1] dot(x::Matrix{Float64}, y::Matrix{Int64})",
      "   @ LinearAlgebra ~/julia-1.9.4/share/julia/stdlib/v1.9/LinearAlgebra/src/generic.jl:881",
      " [2] top-level scope",
      "   @ In[8]:3"
     ]
    }
   ],
   "source": [
    "# If we take an example of independent fluxes\n",
    "v_I = [1 -1 0 0]\n",
    "v_D = - dot(dot(N_D_plus2, N_independ), v_I)"
   ]
  },
  {
   "cell_type": "code",
   "execution_count": 10,
   "id": "c2bf5dad-87d2-41a5-b5e9-e68a1a5d84de",
   "metadata": {},
   "outputs": [
    {
     "data": {
      "text/plain": [
       "8×9 Matrix{Int64}:\n",
       " -1   1   0   0   0   0   0   0   0\n",
       "  1  -1  -1  -1   0   0  -1   0   0\n",
       "  0   0   0  -1   0   1   0   0   0\n",
       "  0   0   0   1  -1   0  -1   1   0\n",
       "  0   0   0   0   0   0   1  -1   0\n",
       "  0   0   0   0   1  -1   0   0   0\n",
       "  0   0   0   0   0  -1   0   0   1\n",
       "  0   0   0   0   0   1   0   0  -1"
      ]
     },
     "execution_count": 10,
     "metadata": {},
     "output_type": "execute_result"
    }
   ],
   "source": [
    "#Testing another matrix\n",
    "N = [-1  1  0  0  0  0  0  0  0;\n",
    "      1 -1 -1 -1  0  0 -1  0  0;\n",
    "      0  0  0 -1  0  1  0  0  0;\n",
    "      0  0  0  1 -1  0 -1  1  0;\n",
    "      0  0  0  0  0  0  1 -1  0;\n",
    "      0  0  0  0  1 -1  0  0  0;\n",
    "      0  0  0  0  0 -1  0  0  1;\n",
    "      0  0  0  0  0  1  0  0 -1]"
   ]
  },
  {
   "cell_type": "code",
   "execution_count": 11,
   "id": "9c11db45-42fb-4cc8-bcfb-87f5cbae1ae3",
   "metadata": {},
   "outputs": [
    {
     "data": {
      "text/plain": [
       "8×2 Matrix{Float64}:\n",
       " -6.05439e-17  6.33046e-34\n",
       " -6.05439e-17  6.33046e-34\n",
       "  0.5          5.64356e-17\n",
       "  0.5          5.74837e-18\n",
       "  0.5          5.64356e-17\n",
       "  0.5          9.35451e-17\n",
       "  8.32667e-17  0.707107\n",
       " -8.32667e-17  0.707107"
      ]
     },
     "execution_count": 11,
     "metadata": {},
     "output_type": "execute_result"
    }
   ],
   "source": [
    "C = nullspace(transpose(N))"
   ]
  }
 ],
 "metadata": {
  "kernelspec": {
   "display_name": "Julia 1.9.4",
   "language": "julia",
   "name": "julia-1.9"
  },
  "language_info": {
   "file_extension": ".jl",
   "mimetype": "application/julia",
   "name": "julia",
   "version": "1.9.4"
  }
 },
 "nbformat": 4,
 "nbformat_minor": 5
}
