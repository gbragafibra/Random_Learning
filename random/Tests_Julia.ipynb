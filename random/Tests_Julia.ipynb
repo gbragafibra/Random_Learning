{
 "cells": [
  {
   "cell_type": "code",
   "execution_count": 1,
   "id": "6fb41707-b135-4930-b0d7-fac872478dea",
   "metadata": {},
   "outputs": [
    {
     "data": {
      "text/latex": [
       "$\\frac{d}{d t} F{\\left(t \\right)} = - \\frac{k_{2} k_{3} F{\\left(t \\right)}}{k_{2} + km_{2}} + 1$"
      ],
      "text/plain": [
       "d            k₂⋅k₃⋅F(t)    \n",
       "──(F(t)) = - ────────── + 1\n",
       "dt            k₂ + km₂     "
      ]
     },
     "execution_count": 1,
     "metadata": {},
     "output_type": "execute_result"
    }
   ],
   "source": [
    "using SymPy\n",
    "\n",
    "F = SymFunction(\"F\")\n",
    "k2, k3, km2, t = symbols(\"k2 k3 km2 t\")\n",
    "eq = diff(F(t), t) ~ (1 - (k2 * k3 * F(t)) / (k2 + km2))"
   ]
  },
  {
   "cell_type": "code",
   "execution_count": 2,
   "id": "b1bbdbca-1ebb-41b1-bc33-a1ec41566841",
   "metadata": {},
   "outputs": [
    {
     "data": {
      "text/latex": [
       "$F{\\left(t \\right)} = C_{1} e^{- \\frac{k_{2} k_{3} t}{k_{2} + km_{2}}} + \\frac{1}{k_{3}} + \\frac{km_{2}}{k_{2} k_{3}}$"
      ],
      "text/plain": [
       "           -k₂⋅k₃⋅t              \n",
       "           ─────────             \n",
       "            k₂ + km₂   1     km₂ \n",
       "F(t) = C₁⋅ℯ          + ── + ─────\n",
       "                       k₃   k₂⋅k₃"
      ]
     },
     "execution_count": 2,
     "metadata": {},
     "output_type": "execute_result"
    }
   ],
   "source": [
    "sol = dsolve(eq, F(t))"
   ]
  },
  {
   "cell_type": "code",
   "execution_count": 3,
   "id": "8ac756f2-8ada-4136-918a-1baa5b72190d",
   "metadata": {},
   "outputs": [
    {
     "data": {
      "text/plain": [
       "2-element Vector{SymFunction{PyCall.PyObject}}:\n",
       " A\n",
       " B"
      ]
     },
     "execution_count": 3,
     "metadata": {},
     "output_type": "execute_result"
    }
   ],
   "source": [
    "A, B = SymFunction(\"A, B\")"
   ]
  },
  {
   "cell_type": "code",
   "execution_count": 8,
   "id": "8fe31057-89fa-4f8a-894e-54f22e61dfed",
   "metadata": {},
   "outputs": [
    {
     "data": {
      "text/latex": [
       "$\\frac{km_{2} F{\\left(t \\right)}}{k_{2} + km_{2}}$"
      ],
      "text/plain": [
       "km₂⋅F(t)\n",
       "────────\n",
       "k₂ + km₂"
      ]
     },
     "metadata": {},
     "output_type": "display_data"
    },
    {
     "data": {
      "text/latex": [
       "$\\frac{k_{2} F{\\left(t \\right)}}{k_{2} + km_{2}}$"
      ],
      "text/plain": [
       "k₂⋅F(t) \n",
       "────────\n",
       "k₂ + km₂"
      ]
     },
     "metadata": {},
     "output_type": "display_data"
    }
   ],
   "source": [
    "A = (km2 * F(t))/(k2 + km2)\n",
    "B = (k2 * F(t))/(k2 + km2)\n",
    "display(A)\n",
    "display(B)"
   ]
  },
  {
   "cell_type": "code",
   "execution_count": 7,
   "id": "fd52838b-fd45-4139-8961-5a41ac43ee8d",
   "metadata": {},
   "outputs": [
    {
     "data": {
      "text/latex": [
       "$\\frac{km_{2} \\left(C_{1} e^{- \\frac{k_{2} k_{3} t}{k_{2} + km_{2}}} + \\frac{1}{k_{3}} + \\frac{km_{2}}{k_{2} k_{3}}\\right)}{k_{2} + km_{2}}$"
      ],
      "text/plain": [
       "    ⎛    -k₂⋅k₃⋅t              ⎞\n",
       "    ⎜    ─────────             ⎟\n",
       "    ⎜     k₂ + km₂   1     km₂ ⎟\n",
       "km₂⋅⎜C₁⋅ℯ          + ── + ─────⎟\n",
       "    ⎝                k₃   k₂⋅k₃⎠\n",
       "────────────────────────────────\n",
       "            k₂ + km₂            "
      ]
     },
     "metadata": {},
     "output_type": "display_data"
    },
    {
     "data": {
      "text/latex": [
       "$\\frac{k_{2} \\left(C_{1} e^{- \\frac{k_{2} k_{3} t}{k_{2} + km_{2}}} + \\frac{1}{k_{3}} + \\frac{km_{2}}{k_{2} k_{3}}\\right)}{k_{2} + km_{2}}$"
      ],
      "text/plain": [
       "   ⎛    -k₂⋅k₃⋅t              ⎞\n",
       "   ⎜    ─────────             ⎟\n",
       "   ⎜     k₂ + km₂   1     km₂ ⎟\n",
       "k₂⋅⎜C₁⋅ℯ          + ── + ─────⎟\n",
       "   ⎝                k₃   k₂⋅k₃⎠\n",
       "───────────────────────────────\n",
       "            k₂ + km₂           "
      ]
     },
     "metadata": {},
     "output_type": "display_data"
    }
   ],
   "source": [
    "A_sub = subs(A, F(t) => sol.rhs)\n",
    "B_sub = subs(B, F(t) => sol.rhs)\n",
    "display(A_sub)\n",
    "display(B_sub)"
   ]
  },
  {
   "cell_type": "code",
   "execution_count": 1,
   "id": "018adde6-3b07-4fe2-8212-640ca7428e54",
   "metadata": {},
   "outputs": [
    {
     "data": {
      "text/plain": [
       "(Km, n, s)"
      ]
     },
     "execution_count": 1,
     "metadata": {},
     "output_type": "execute_result"
    }
   ],
   "source": [
    "using SymPy\n",
    "\n",
    "Km, n, s = symbols(\"Km n s\")"
   ]
  },
  {
   "cell_type": "code",
   "execution_count": 10,
   "id": "92296787-cd26-4559-b3f2-0d2fa5779571",
   "metadata": {},
   "outputs": [
    {
     "data": {
      "text/latex": [
       "$\\log{\\left(Km^{n} + s^{n} \\right)}$"
      ],
      "text/plain": [
       "   ⎛  n    n⎞\n",
       "log⎝Km  + s ⎠"
      ]
     },
     "execution_count": 10,
     "metadata": {},
     "output_type": "execute_result"
    }
   ],
   "source": [
    "f = log(Km^n + s^n)"
   ]
  },
  {
   "cell_type": "code",
   "execution_count": 12,
   "id": "48bc6ff2-ace5-4ac3-96b0-d3eba2684997",
   "metadata": {},
   "outputs": [
    {
     "data": {
      "text/latex": [
       "$\\frac{n s^{n}}{s \\left(Km^{n} + s^{n}\\right)}$"
      ],
      "text/plain": [
       "       n    \n",
       "    n⋅s     \n",
       "────────────\n",
       "  ⎛  n    n⎞\n",
       "s⋅⎝Km  + s ⎠"
      ]
     },
     "execution_count": 12,
     "metadata": {},
     "output_type": "execute_result"
    }
   ],
   "source": [
    "deriv_s = diff(f, s)"
   ]
  },
  {
   "cell_type": "code",
   "execution_count": 13,
   "id": "7a162f00-5c73-4485-bba1-5086a9ccb4bc",
   "metadata": {},
   "outputs": [
    {
     "data": {
      "text/latex": [
       "$\\frac{n s^{n}}{s^{2} \\left(Km^{n} + s^{n}\\right)}$"
      ],
      "text/plain": [
       "        n    \n",
       "     n⋅s     \n",
       "─────────────\n",
       " 2 ⎛  n    n⎞\n",
       "s ⋅⎝Km  + s ⎠"
      ]
     },
     "execution_count": 13,
     "metadata": {},
     "output_type": "execute_result"
    }
   ],
   "source": [
    "deriv_log_s = deriv_s / s"
   ]
  },
  {
   "cell_type": "code",
   "execution_count": 2,
   "id": "55f5edf7-037c-490f-8713-b04be5b93d21",
   "metadata": {},
   "outputs": [
    {
     "data": {
      "text/plain": [
       "(Km, n, u)"
      ]
     },
     "execution_count": 2,
     "metadata": {},
     "output_type": "execute_result"
    }
   ],
   "source": [
    "using SymPy\n",
    "\n",
    "Km, n, u = symbols(\"Km n u\") "
   ]
  },
  {
   "cell_type": "code",
   "execution_count": 3,
   "id": "24a9f215-457c-413a-b1b9-ca43c182c981",
   "metadata": {},
   "outputs": [
    {
     "data": {
      "text/latex": [
       "$\\log{\\left(Km^{n} + e^{n u} \\right)}$"
      ],
      "text/plain": [
       "   ⎛  n    n⋅u⎞\n",
       "log⎝Km  + ℯ   ⎠"
      ]
     },
     "execution_count": 3,
     "metadata": {},
     "output_type": "execute_result"
    }
   ],
   "source": [
    "expr = log(Km^n + Base.MathConstants.e^(u*n))"
   ]
  },
  {
   "cell_type": "code",
   "execution_count": 5,
   "id": "2bc50248-4730-4556-8796-0b266a3b2222",
   "metadata": {},
   "outputs": [
    {
     "data": {
      "text/latex": [
       "$\\frac{n e^{n u}}{Km^{n} + e^{n u}}$"
      ],
      "text/plain": [
       "     n⋅u  \n",
       "  n⋅ℯ     \n",
       "──────────\n",
       "  n    n⋅u\n",
       "Km  + ℯ   "
      ]
     },
     "execution_count": 5,
     "metadata": {},
     "output_type": "execute_result"
    }
   ],
   "source": [
    "result = diff(expr, u)"
   ]
  },
  {
   "cell_type": "code",
   "execution_count": 11,
   "id": "405a3e72-db37-48e6-932d-a359a7f2bb5b",
   "metadata": {},
   "outputs": [
    {
     "data": {
      "text/latex": [
       "$\\frac{n e^{n \\log{\\left(s \\right)}}}{Km^{n} + e^{n \\log{\\left(s \\right)}}}$"
      ],
      "text/plain": [
       "     n⋅log(s)  \n",
       "  n⋅ℯ          \n",
       "───────────────\n",
       "  n    n⋅log(s)\n",
       "Km  + ℯ        "
      ]
     },
     "execution_count": 11,
     "metadata": {},
     "output_type": "execute_result"
    }
   ],
   "source": [
    "s = symbols(\"s\")\n",
    "eprx_2 = replace(result, u => log(s))"
   ]
  },
  {
   "cell_type": "code",
   "execution_count": 12,
   "id": "b1fd178f-a990-4692-8451-4646ef0e6e44",
   "metadata": {},
   "outputs": [
    {
     "data": {
      "text/latex": [
       "$\\frac{n e^{n \\log{\\left(s \\right)}}}{Km^{n} + e^{n \\log{\\left(s \\right)}}}$"
      ],
      "text/plain": [
       "     n⋅log(s)  \n",
       "  n⋅ℯ          \n",
       "───────────────\n",
       "  n    n⋅log(s)\n",
       "Km  + ℯ        "
      ]
     },
     "execution_count": 12,
     "metadata": {},
     "output_type": "execute_result"
    }
   ],
   "source": [
    "simplify(eprx_2)"
   ]
  }
 ],
 "metadata": {
  "kernelspec": {
   "display_name": "Julia 1.9.4",
   "language": "julia",
   "name": "julia-1.9"
  },
  "language_info": {
   "file_extension": ".jl",
   "mimetype": "application/julia",
   "name": "julia",
   "version": "1.9.4"
  }
 },
 "nbformat": 4,
 "nbformat_minor": 5
}
