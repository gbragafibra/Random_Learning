{
 "cells": [
  {
   "cell_type": "code",
   "execution_count": 1,
   "id": "dfbe9d3c-da35-47d8-9b30-48311e27307d",
   "metadata": {},
   "outputs": [],
   "source": [
    "import numpy \n",
    "from sympy import Symbol"
   ]
  },
  {
   "cell_type": "code",
   "execution_count": 3,
   "id": "a7514b99-fcec-44b2-a197-4edcc595a933",
   "metadata": {},
   "outputs": [
    {
     "data": {
      "text/latex": [
       "$\\displaystyle \\left(α + δ\\right) \\left(α + 2 δ\\right) \\left(α + 3 δ\\right)$"
      ],
      "text/plain": [
       "(α + δ)*(α + 2*δ)*(α + 3*δ)"
      ]
     },
     "execution_count": 3,
     "metadata": {},
     "output_type": "execute_result"
    }
   ],
   "source": [
    "α = Symbol(\"α\")\n",
    "δ = Symbol(\"δ\")\n",
    "\n",
    "expr = 1\n",
    "n = 5\n",
    "\n",
    "for k in range(1, n - 1):\n",
    "    expr *= (α + k * δ)\n",
    "\n",
    "expr"
   ]
  },
  {
   "cell_type": "markdown",
   "id": "544cf812-fc8b-4ef5-9229-1e80c1c414d2",
   "metadata": {},
   "source": [
    "With general form\n",
    "$$\n",
    "\\Pi_{k = 1}^{n}(\\alpha + k \\delta)\n",
    "$$"
   ]
  }
 ],
 "metadata": {
  "kernelspec": {
   "display_name": "Python 3 (ipykernel)",
   "language": "python",
   "name": "python3"
  },
  "language_info": {
   "codemirror_mode": {
    "name": "ipython",
    "version": 3
   },
   "file_extension": ".py",
   "mimetype": "text/x-python",
   "name": "python",
   "nbconvert_exporter": "python",
   "pygments_lexer": "ipython3",
   "version": "3.10.13"
  }
 },
 "nbformat": 4,
 "nbformat_minor": 5
}
