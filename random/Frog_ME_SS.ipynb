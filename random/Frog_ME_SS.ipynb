{
 "cells": [
  {
   "cell_type": "code",
   "execution_count": 1,
   "id": "7ac245ed-3cdc-4e0c-ad8e-00c50b9d54a1",
   "metadata": {},
   "outputs": [],
   "source": [
    "import numpy as np"
   ]
  },
  {
   "cell_type": "code",
   "execution_count": 9,
   "id": "4d6074d1-4f02-4d60-8f6d-968219d4db5c",
   "metadata": {},
   "outputs": [
    {
     "data": {
      "text/plain": [
       "array([ 1.40027360e-16+0.j        , -4.43855875e-01+0.23750143j,\n",
       "       -4.43855875e-01-0.23750143j, -1.88153191e+00+0.j        ,\n",
       "       -1.36537817e+00+0.19705002j, -1.36537817e+00-0.19705002j])"
      ]
     },
     "execution_count": 9,
     "metadata": {},
     "output_type": "execute_result"
    }
   ],
   "source": [
    "W = np.array([[-1/2, 1/3, 0, 0, 0, 2/3],\n",
    "              [1/3, -1, 1/3, 0, 0, 0],\n",
    "              [0, 2/3, -1, 1/3, 0, 0],\n",
    "              [0, 0,2/3, -1, 1/3, 0],\n",
    "              [0, 0, 0, 2/3, -1, 1/3],\n",
    "              [1/6,0, 0, 0, 2/3, -1]])\n",
    "np.linalg.eig(W)[0]"
   ]
  },
  {
   "cell_type": "code",
   "execution_count": 10,
   "id": "b60e5526-9614-4284-b85c-bb0ca1035390",
   "metadata": {},
   "outputs": [],
   "source": [
    "def simulator(Δt, sims, π0, W):\n",
    "    for _ in range(sims):\n",
    "        π0 += W@π0\n",
    "    \n",
    "    return π0"
   ]
  },
  {
   "cell_type": "code",
   "execution_count": 11,
   "id": "3e7ba75c-9729-4019-9ce8-9b137ceac99a",
   "metadata": {},
   "outputs": [
    {
     "data": {
      "text/plain": [
       "array([0.28571424, 0.14285718, 0.14285708, 0.14285722, 0.14285706,\n",
       "       0.14285722])"
      ]
     },
     "execution_count": 11,
     "metadata": {},
     "output_type": "execute_result"
    }
   ],
   "source": [
    "Δt = 1\n",
    "sims = 100\n",
    "π0 = np.random.rand(6)\n",
    "π0 = π0/np.sum(π0) #Normalize initial pdf\n",
    "\n",
    "π_SS = simulator(Δt, sims, π0, W)\n",
    "π_SS #2/7 for p(0), and 1/7 for every other state (correct)"
   ]
  },
  {
   "cell_type": "code",
   "execution_count": 14,
   "id": "adda7977-d72c-4232-8f0e-d84992c0b7c4",
   "metadata": {},
   "outputs": [
    {
     "data": {
      "text/plain": [
       "array([0.07968127, 0.23904382, 0.65737052, 0.02390438])"
      ]
     },
     "execution_count": 14,
     "metadata": {},
     "output_type": "execute_result"
    }
   ],
   "source": [
    "\"\"\"\n",
    "Another example\n",
    "\"\"\"\n",
    "π0 = np.random.rand(4)\n",
    "π0_norm = π0 / np.sum(π0)\n",
    "Δt = 1\n",
    "sims = 100\n",
    "W = np.array([[-0.6, 0.2, 0, 0],\n",
    "             [0.6, -0.8, 0.2, 0.5],\n",
    "             [0, 0.5, -0.2, 0.5],\n",
    "             [0, 0.1, 0, -1.0]])\n",
    "π_SS = simulator(Δt, sims, π0_norm, W)\n",
    "π_SS"
   ]
  }
 ],
 "metadata": {
  "kernelspec": {
   "display_name": "Python 3 (ipykernel)",
   "language": "python",
   "name": "python3"
  },
  "language_info": {
   "codemirror_mode": {
    "name": "ipython",
    "version": 3
   },
   "file_extension": ".py",
   "mimetype": "text/x-python",
   "name": "python",
   "nbconvert_exporter": "python",
   "pygments_lexer": "ipython3",
   "version": "3.10.13"
  }
 },
 "nbformat": 4,
 "nbformat_minor": 5
}
