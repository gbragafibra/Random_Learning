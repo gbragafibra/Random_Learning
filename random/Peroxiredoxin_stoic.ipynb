{
 "cells": [
  {
   "cell_type": "code",
   "execution_count": 1,
   "id": "e5fbc51e-41c2-4572-a9c7-8a5509767ec7",
   "metadata": {},
   "outputs": [],
   "source": [
    "import numpy as np"
   ]
  },
  {
   "cell_type": "code",
   "execution_count": 4,
   "id": "7e5cfd5e-d5aa-432d-a9a6-2d91e23452dd",
   "metadata": {},
   "outputs": [],
   "source": [
    "species = [\"H2O2out\", \"H202\", \"PrxS\", \"PrxSO\", \"PrxSO2\",\n",
    "          \"PrxSS\", \"TrxS\", \"TrxSS\"]\n",
    "N = np.array([[-1 , 1, 0, 0, 0, 0, 0, 0, 0],\n",
    "             [1 ,-1 ,-1, -1, 0, 0, -1, 0, 0],\n",
    "             [0, 0, 0, -1, 0, 1, 0, 0, 0],\n",
    "             [0, 0, 0, 1, -1, 0, -1, 1, 0],\n",
    "             [0, 0, 0, 0, 0, 0, 1, -1, 0],\n",
    "             [0, 0, 0, 0, 1, -1, 0, 0, 0],\n",
    "             [0, 0, 0, 0, 0, -1, 0, 0, 1],\n",
    "             [0, 0, 0, 0, 0, 1, 0, 0, -1]])"
   ]
  },
  {
   "cell_type": "code",
   "execution_count": 6,
   "id": "1f15679f-b0cc-4196-be85-33e2ea10f690",
   "metadata": {},
   "outputs": [
    {
     "data": {
      "text/plain": [
       "(8, 9)"
      ]
     },
     "execution_count": 6,
     "metadata": {},
     "output_type": "execute_result"
    }
   ],
   "source": [
    "N.shape"
   ]
  },
  {
   "cell_type": "code",
   "execution_count": 8,
   "id": "041ea2cc-e19a-4793-a4fb-500fa212e038",
   "metadata": {},
   "outputs": [
    {
     "data": {
      "text/plain": [
       "6"
      ]
     },
     "execution_count": 8,
     "metadata": {},
     "output_type": "execute_result"
    }
   ],
   "source": [
    "np.linalg.matrix_rank(N) #Rank's 6"
   ]
  },
  {
   "cell_type": "markdown",
   "id": "d9f13110-9de5-4e72-abdf-faffcb736616",
   "metadata": {},
   "source": [
    "6 independent fluxes from 8 total ones, means we are looking for 2 conservation relationships."
   ]
  },
  {
   "cell_type": "code",
   "execution_count": 75,
   "id": "40157157-93ef-4d84-bb3e-06f6bbe3b167",
   "metadata": {},
   "outputs": [
    {
     "data": {
      "text/plain": [
       "array([[0, 0],\n",
       "       [0, 0],\n",
       "       [0, 0],\n",
       "       [0, 0],\n",
       "       [0, 0],\n",
       "       [0, 0],\n",
       "       [0, 0],\n",
       "       [0, 0]])"
      ]
     },
     "execution_count": 75,
     "metadata": {},
     "output_type": "execute_result"
    }
   ],
   "source": [
    "from scipy.linalg import null_space\n",
    "C = null_space(N.T)\n",
    "C.astype(int)"
   ]
  }
 ],
 "metadata": {
  "kernelspec": {
   "display_name": "Python 3 (ipykernel)",
   "language": "python",
   "name": "python3"
  },
  "language_info": {
   "codemirror_mode": {
    "name": "ipython",
    "version": 3
   },
   "file_extension": ".py",
   "mimetype": "text/x-python",
   "name": "python",
   "nbconvert_exporter": "python",
   "pygments_lexer": "ipython3",
   "version": "3.10.13"
  }
 },
 "nbformat": 4,
 "nbformat_minor": 5
}
