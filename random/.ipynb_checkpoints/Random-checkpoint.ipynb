{
 "cells": [
  {
   "cell_type": "code",
   "execution_count": 1,
   "id": "52c1011b-6b2d-4f75-a66a-75eb8e7dfbfe",
   "metadata": {},
   "outputs": [],
   "source": [
    "import numpy as np\n",
    "import matplotlib.pyplot as plt"
   ]
  },
  {
   "cell_type": "code",
   "execution_count": 2,
   "id": "abbe0c50-330f-47c0-a6cf-603422148b9d",
   "metadata": {},
   "outputs": [
    {
     "data": {
      "text/plain": [
       "[5, 6, 10, 11, 0, 1, 5, 6, 10, 11, 0, 1, 5, 6, 10, 11, 0, 1, 5, 6, 10]"
      ]
     },
     "execution_count": 2,
     "metadata": {},
     "output_type": "execute_result"
    }
   ],
   "source": [
    "def rnd_n_gen(u0, a, c, m, iter):\n",
    "    nums = []\n",
    "    nums.append(u0)\n",
    "    for i in range(iter):\n",
    "        u = (a * u0 + c) % m\n",
    "        nums.append(u)\n",
    "        u0 = u\n",
    "    return nums\n",
    "\n",
    "rnd_n_gen(5, 4, 1, 15, 20)"
   ]
  },
  {
   "cell_type": "markdown",
   "id": "001dfcd7-1f98-44f0-a613-8676bbfc2f9c",
   "metadata": {},
   "source": [
    "If we happen to go with \n",
    "$$\n",
    "u_{i} = (au_{i+j} + cu_{i+k})\\text{mod}\\,m\n",
    "$$\n",
    "we would need a seed sequence, as opposed to a single seed value, as given for the example of prior random number generator."
   ]
  },
  {
   "cell_type": "code",
   "execution_count": 3,
   "id": "5414b641-02f0-4dbe-a1df-ebdf3b6b0c7f",
   "metadata": {},
   "outputs": [
    {
     "data": {
      "text/plain": [
       "[1,\n",
       " 5,\n",
       " 2,\n",
       " 7,\n",
       " 2,\n",
       " 10,\n",
       " 1,\n",
       " 6,\n",
       " 18,\n",
       " 19,\n",
       " 18,\n",
       " 6,\n",
       " 13,\n",
       " 18,\n",
       " 6,\n",
       " 11,\n",
       " 14,\n",
       " 6,\n",
       " 13,\n",
       " 10,\n",
       " 10,\n",
       " 11,\n",
       " 2,\n",
       " 10,\n",
       " 9,\n",
       " 2]"
      ]
     },
     "execution_count": 3,
     "metadata": {},
     "output_type": "execute_result"
    }
   ],
   "source": [
    "def rnd_n_gen_2(seed_seq, a, c, m, iter, j, k):\n",
    "    nums = []\n",
    "    for num in seed_seq:\n",
    "        nums.append(num)\n",
    "    for i in range(iter):\n",
    "        u = (a * nums[i + j] + c * nums[i + k]) % m\n",
    "        nums.append(u)\n",
    "\n",
    "    return nums\n",
    "\n",
    "rnd_n_gen_2([1,5,2,7,2,10], 4, 19, 20, 20, 2, 3)"
   ]
  },
  {
   "cell_type": "markdown",
   "id": "0099fbdd-bb1e-491a-95a1-2309fb84e3bf",
   "metadata": {},
   "source": [
    "If we might happen to generate random floats, in this case between 0 and 1, we can actually make use of the prior functions, and have a float given by\n",
    "$$\n",
    "r_{i} = u_{i}/m\n",
    "$$"
   ]
  },
  {
   "cell_type": "code",
   "execution_count": 4,
   "id": "32929a72-cdf2-41d2-ac4d-9c070b9f295d",
   "metadata": {},
   "outputs": [
    {
     "data": {
      "text/plain": [
       "array([0.33333333, 0.4       , 0.66666667, 0.73333333, 0.        ,\n",
       "       0.06666667, 0.33333333, 0.4       , 0.66666667, 0.73333333,\n",
       "       0.        , 0.06666667, 0.33333333, 0.4       , 0.66666667,\n",
       "       0.73333333, 0.        , 0.06666667, 0.33333333, 0.4       ,\n",
       "       0.66666667])"
      ]
     },
     "execution_count": 4,
     "metadata": {},
     "output_type": "execute_result"
    }
   ],
   "source": [
    "np.array(rnd_n_gen(5, 4, 1, 15, 20))/15"
   ]
  },
  {
   "cell_type": "markdown",
   "id": "ab242bcc-cea9-4807-8b17-a5cb3964b237",
   "metadata": {},
   "source": [
    "We can eventually extend this to any interval $[a,b[$, by having\n",
    "$$\n",
    "x_{i} = a + (b-a)r_{i}\n",
    "$$"
   ]
  },
  {
   "cell_type": "code",
   "execution_count": 5,
   "id": "5cd0273b-8df3-46da-9b90-9163600ac092",
   "metadata": {},
   "outputs": [
    {
     "data": {
      "text/plain": [
       "[1.7138642178632644,\n",
       " 4.854866776461628,\n",
       " 2.284955592153876,\n",
       " 5.42595815075224,\n",
       " 2.856046966444487,\n",
       " 5.997049525042851,\n",
       " 3.4271383407350986,\n",
       " 6.5681408993334625,\n",
       " 3.99822971502571,\n",
       " 1.4283185307179587,\n",
       " 4.569321089316322,\n",
       " 1.9994099050085703,\n",
       " 5.140412463606934,\n",
       " 2.5705012792991813,\n",
       " 5.711503837897546,\n",
       " 3.141592653589793,\n",
       " 6.2825952121881565,\n",
       " 3.7126840278804045,\n",
       " 1.142772843572653,\n",
       " 4.283775402171017,\n",
       " 1.7138642178632644,\n",
       " 4.854866776461628,\n",
       " 2.284955592153876,\n",
       " 5.42595815075224,\n",
       " 2.856046966444487,\n",
       " 5.997049525042851,\n",
       " 3.4271383407350986,\n",
       " 6.5681408993334625,\n",
       " 3.99822971502571,\n",
       " 1.4283185307179587,\n",
       " 4.569321089316322,\n",
       " 1.9994099050085703,\n",
       " 5.140412463606934,\n",
       " 2.5705012792991813,\n",
       " 5.711503837897546,\n",
       " 3.141592653589793,\n",
       " 6.2825952121881565,\n",
       " 3.7126840278804045,\n",
       " 1.142772843572653,\n",
       " 4.283775402171017,\n",
       " 1.7138642178632644]"
      ]
     },
     "execution_count": 5,
     "metadata": {},
     "output_type": "execute_result"
    }
   ],
   "source": [
    "a = 1\n",
    "b = np.pi\n",
    "nums_transformed = []\n",
    "for num in np.array(rnd_n_gen(5, 21, 2, 40, 40))/15:\n",
    "    nums_transformed.append(a + (b - a)*num)\n",
    "\n",
    "nums_transformed"
   ]
  },
  {
   "cell_type": "markdown",
   "id": "4e72f46f-bcca-4f5b-a532-b8c6bbe848bd",
   "metadata": {},
   "source": [
    "Good number generators should have as large a period as possible, and should not have noticeable correlations."
   ]
  },
  {
   "cell_type": "code",
   "execution_count": 6,
   "id": "eee83e5f-d903-4b6a-b2d8-b37c442917d7",
   "metadata": {},
   "outputs": [
    {
     "data": {
      "text/plain": [
       "[<matplotlib.lines.Line2D at 0x7fc684fef160>]"
      ]
     },
     "execution_count": 6,
     "metadata": {},
     "output_type": "execute_result"
    },
    {
     "data": {
      "image/png": "[encoded data removed]",
      "text/plain": [
       "<Figure size 640x480 with 1 Axes>"
      ]
     },
     "metadata": {},
     "output_type": "display_data"
    }
   ],
   "source": [
    "num_pairs = [(nums_transformed[i], nums_transformed[i + 1]) for i in range(len(nums_transformed) - 1)]\n",
    "x, y = zip(*num_pairs)\n",
    "plt.plot(x, y, \"k*\")"
   ]
  },
  {
   "cell_type": "markdown",
   "id": "7a7aa32c-4e03-4c28-83df-0af2dab073ac",
   "metadata": {},
   "source": [
    "This would be an example of a bad RNG, as we can clearly notice correlations."
   ]
  },
  {
   "cell_type": "code",
   "execution_count": 7,
   "id": "6b683b6e-1746-4193-9424-b6fd321c0770",
   "metadata": {},
   "outputs": [
    {
     "data": {
      "text/plain": [
       "(array([4, 5, 4, 4, 4, 4, 4, 4, 4, 4]),\n",
       " array([1.14277284, 1.68530965, 2.22784645, 2.77038326, 3.31292007,\n",
       "        3.85545687, 4.39799368, 4.94053048, 5.48306729, 6.02560409,\n",
       "        6.5681409 ]))"
      ]
     },
     "execution_count": 7,
     "metadata": {},
     "output_type": "execute_result"
    }
   ],
   "source": [
    "np.histogram(nums_transformed) # Here we also see that these vals are equidistributed for the major part"
   ]
  },
  {
   "cell_type": "code",
   "execution_count": 8,
   "id": "0b66aa3d-7f9a-41a0-87e3-c958d1c29509",
   "metadata": {},
   "outputs": [],
   "source": [
    "import random\n",
    "random.seed(42)"
   ]
  },
  {
   "cell_type": "code",
   "execution_count": 9,
   "id": "fe3f1a81-d7a4-41fd-a3f5-ef002c946b01",
   "metadata": {},
   "outputs": [
    {
     "data": {
      "text/plain": [
       "(array([  8,  39, 179, 419, 675, 654, 383, 122,  19,   2]),\n",
       " array([-4.47474611, -3.7569093 , -3.03907248, -2.32123567, -1.60339886,\n",
       "        -0.88556205, -0.16772524,  0.55011158,  1.26794839,  1.9857852 ,\n",
       "         2.70362201]))"
      ]
     },
     "execution_count": 9,
     "metadata": {},
     "output_type": "execute_result"
    }
   ],
   "source": [
    "gaussian = np.random.normal(-1, 1, (50,50))\n",
    "np.histogram(gaussian)"
   ]
  },
  {
   "cell_type": "code",
   "execution_count": 10,
   "id": "ce86b082-1fd1-44ef-b9f4-dfe2f2849a81",
   "metadata": {},
   "outputs": [
    {
     "data": {
      "text/plain": [
       "(array([271, 240, 241, 248, 235, 239, 263, 256, 264, 243]),\n",
       " array([-9.99483375e-01, -7.99594843e-01, -5.99706311e-01, -3.99817779e-01,\n",
       "        -1.99929247e-01, -4.07155389e-05,  1.99847816e-01,  3.99736348e-01,\n",
       "         5.99624880e-01,  7.99513412e-01,  9.99401944e-01]))"
      ]
     },
     "execution_count": 10,
     "metadata": {},
     "output_type": "execute_result"
    }
   ],
   "source": [
    "uniform = np.random.uniform(-1, 1, (50,50))\n",
    "np.histogram(uniform)"
   ]
  }
 ],
 "metadata": {
  "kernelspec": {
   "display_name": "Python 3 (ipykernel)",
   "language": "python",
   "name": "python3"
  },
  "language_info": {
   "codemirror_mode": {
    "name": "ipython",
    "version": 3
   },
   "file_extension": ".py",
   "mimetype": "text/x-python",
   "name": "python",
   "nbconvert_exporter": "python",
   "pygments_lexer": "ipython3",
   "version": "3.10.13"
  }
 },
 "nbformat": 4,
 "nbformat_minor": 5
}
