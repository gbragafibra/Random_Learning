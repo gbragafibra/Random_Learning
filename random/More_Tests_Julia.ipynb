{
 "cells": [
  {
   "cell_type": "code",
   "execution_count": 1,
   "id": "da73c18f-0bc3-45fa-86bf-dbec8853cd4f",
   "metadata": {},
   "outputs": [],
   "source": [
    "using SymPy"
   ]
  },
  {
   "cell_type": "code",
   "execution_count": 2,
   "id": "02e923cc-9c38-4ddb-9cde-cc1f80369c95",
   "metadata": {},
   "outputs": [
    {
     "data": {
      "text/plain": [
       "(EAA, k_2, k2, k1, k_1, A, E)"
      ]
     },
     "execution_count": 2,
     "metadata": {},
     "output_type": "execute_result"
    }
   ],
   "source": [
    "EAA, k_2, k2, k1, k_1, A, E = symbols(\"EAA, k_2, k2, k1, k_1, A, E\")\n",
    "(EAA, k_2, k2, k1, k_1, A, E)"
   ]
  },
  {
   "cell_type": "code",
   "execution_count": 3,
   "id": "9b3052bb-1703-4c7d-8cbc-6e38bac814d7",
   "metadata": {},
   "outputs": [
    {
     "data": {
      "text/latex": [
       "$\\frac{A k_{2} \\left(A E k_{1} + EAA k_{2}\\right)}{k_{1} k_{2}} - EAA$"
      ],
      "text/plain": [
       "A⋅k₂⋅(A⋅E⋅k₁ + EAA⋅k₂)      \n",
       "────────────────────── - EAA\n",
       "        k₁⋅k₂               "
      ]
     },
     "execution_count": 3,
     "metadata": {},
     "output_type": "execute_result"
    }
   ],
   "source": [
    "eq = -EAA + (k_2*A)*((k2*EAA + k_1*E*A)/k1)/k2"
   ]
  },
  {
   "cell_type": "code",
   "execution_count": 4,
   "id": "9732adae-7ae6-4ecc-ba92-f1819c130ff4",
   "metadata": {},
   "outputs": [
    {
     "data": {
      "text/plain": [
       "1-element Vector{Sym{PyCall.PyObject}}:\n",
       " A^2*E*k_1*k_2/(k2*(-A*k_2 + k1))"
      ]
     },
     "execution_count": 4,
     "metadata": {},
     "output_type": "execute_result"
    }
   ],
   "source": [
    "sol = solve(eq, EAA)"
   ]
  },
  {
   "cell_type": "code",
   "execution_count": 7,
   "id": "0a1f4584-0327-4e12-ae6a-7555bc5a0f30",
   "metadata": {},
   "outputs": [
    {
     "data": {
      "text/plain": [
       "(k3, comp)"
      ]
     },
     "execution_count": 7,
     "metadata": {},
     "output_type": "execute_result"
    }
   ],
   "source": [
    "k3, comp = symbols(\"k3 comp\")"
   ]
  },
  {
   "cell_type": "code",
   "execution_count": 8,
   "id": "1e56bcd7-de6f-45b8-bc58-6aa4f7e452d1",
   "metadata": {},
   "outputs": [
    {
     "data": {
      "text/latex": [
       "$\\left[\\begin{smallmatrix}\\frac{0.5 A^{2} E k_{3} k_{1} k_{2}}{k_{2} \\left(- A k_{2} + k_{1}\\right)}\\end{smallmatrix}\\right]$"
      ],
      "text/plain": [
       "⎡     2           ⎤\n",
       "⎢0.5⋅A ⋅E⋅k₃⋅k₁⋅k₂⎥\n",
       "⎢─────────────────⎥\n",
       "⎣ k₂⋅(-A⋅k₂ + k₁) ⎦"
      ]
     },
     "execution_count": 8,
     "metadata": {},
     "output_type": "execute_result"
    }
   ],
   "source": [
    "velocity = 0.5 * k3 * comp\n",
    "replace(velocity, comp => sol)"
   ]
  },
  {
   "cell_type": "code",
   "execution_count": 10,
   "id": "dc65d551-0ed4-4a9e-b8d6-7e0da8a2755f",
   "metadata": {},
   "outputs": [
    {
     "data": {
      "text/latex": [
       "$u$"
      ],
      "text/plain": [
       "u"
      ]
     },
     "execution_count": 10,
     "metadata": {},
     "output_type": "execute_result"
    }
   ],
   "source": [
    "exp1 = log(A^2 * E * k3 * k_1 * k_2)\n",
    "u = symbols(\"u\")"
   ]
  },
  {
   "cell_type": "code",
   "execution_count": 18,
   "id": "594ccb92-73f8-4869-aa34-d934692e9949",
   "metadata": {},
   "outputs": [
    {
     "data": {
      "text/latex": [
       "$\\log{\\left(E k_{3} k_{1} k_{2} e^{2 u} \\right)}$"
      ],
      "text/plain": [
       "   ⎛            2⋅u⎞\n",
       "log⎝E⋅k₃⋅k₁⋅k₂⋅ℯ   ⎠"
      ]
     },
     "execution_count": 18,
     "metadata": {},
     "output_type": "execute_result"
    }
   ],
   "source": [
    "exp1_1 = replace(exp1, A => ℯ^u)"
   ]
  },
  {
   "cell_type": "code",
   "execution_count": 20,
   "id": "5f23146a-95f7-4a61-94fa-f7cd7ae7a5d6",
   "metadata": {},
   "outputs": [
    {
     "data": {
      "text/latex": [
       "$2$"
      ],
      "text/plain": [
       "2"
      ]
     },
     "execution_count": 20,
     "metadata": {},
     "output_type": "execute_result"
    }
   ],
   "source": [
    "diff(exp1_1, u)"
   ]
  },
  {
   "cell_type": "code",
   "execution_count": 21,
   "id": "412c0688-dc0e-478c-9b6a-f9adcaf53672",
   "metadata": {},
   "outputs": [
    {
     "data": {
      "text/latex": [
       "$- \\log{\\left(2 k_{2} \\left(- A k_{2} + k_{1}\\right) \\right)}$"
      ],
      "text/plain": [
       "-log(2⋅k₂⋅(-A⋅k₂ + k₁))"
      ]
     },
     "execution_count": 21,
     "metadata": {},
     "output_type": "execute_result"
    }
   ],
   "source": [
    "exp2 = -log(2*k2*(-A*k_2 + k1))"
   ]
  },
  {
   "cell_type": "code",
   "execution_count": 22,
   "id": "396b42aa-454c-4965-81e1-814376f19281",
   "metadata": {},
   "outputs": [
    {
     "data": {
      "text/latex": [
       "$- \\log{\\left(2 k_{2} \\left(k_{1} - k_{2} e^{u}\\right) \\right)}$"
      ],
      "text/plain": [
       "    ⎛     ⎛         u⎞⎞\n",
       "-log⎝2⋅k₂⋅⎝k₁ - k₂⋅ℯ ⎠⎠"
      ]
     },
     "execution_count": 22,
     "metadata": {},
     "output_type": "execute_result"
    }
   ],
   "source": [
    "exp2_2 = replace(exp2, A => ℯ^u)"
   ]
  },
  {
   "cell_type": "code",
   "execution_count": 23,
   "id": "f94ed070-81b9-456c-972d-88f30740d58d",
   "metadata": {},
   "outputs": [
    {
     "data": {
      "text/latex": [
       "$\\frac{k_{2} e^{u}}{k_{1} - k_{2} e^{u}}$"
      ],
      "text/plain": [
       "      u   \n",
       "  k₂⋅ℯ    \n",
       "──────────\n",
       "         u\n",
       "k₁ - k₂⋅ℯ "
      ]
     },
     "execution_count": 23,
     "metadata": {},
     "output_type": "execute_result"
    }
   ],
   "source": [
    "sol_2 = diff(exp2_2, u)"
   ]
  },
  {
   "cell_type": "code",
   "execution_count": 24,
   "id": "e4935c14-cf5f-4548-a362-8282b37b8a8a",
   "metadata": {},
   "outputs": [
    {
     "data": {
      "text/latex": [
       "$\\frac{A k_{2}}{- A k_{2} + k_{1}}$"
      ],
      "text/plain": [
       "   A⋅k₂   \n",
       "──────────\n",
       "-A⋅k₂ + k₁"
      ]
     },
     "execution_count": 24,
     "metadata": {},
     "output_type": "execute_result"
    }
   ],
   "source": [
    "replace(sol_2, u => log(A))"
   ]
  }
 ],
 "metadata": {
  "kernelspec": {
   "display_name": "Julia 1.9.4",
   "language": "julia",
   "name": "julia-1.9"
  },
  "language_info": {
   "file_extension": ".jl",
   "mimetype": "application/julia",
   "name": "julia",
   "version": "1.9.4"
  }
 },
 "nbformat": 4,
 "nbformat_minor": 5
}
