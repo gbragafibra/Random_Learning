{
 "cells": [
  {
   "cell_type": "code",
   "execution_count": 1,
   "id": "c3774cd0-97ed-49f1-880f-9c43b0f3990e",
   "metadata": {},
   "outputs": [],
   "source": [
    "using SymPy"
   ]
  },
  {
   "cell_type": "code",
   "execution_count": 2,
   "id": "3bd861e2-9786-4cfc-b099-a39252e73dae",
   "metadata": {},
   "outputs": [
    {
     "data": {
      "text/plain": [
       "(Δv, α, β, γ, v, m, D)"
      ]
     },
     "execution_count": 2,
     "metadata": {},
     "output_type": "execute_result"
    }
   ],
   "source": [
    "Δv, α, β, γ, v, m, D = symbols(\"Δv, α, β, γ, v, m, D\")"
   ]
  },
  {
   "cell_type": "code",
   "execution_count": 73,
   "id": "262a7fdc-d2bd-499f-beb7-9d6b4ed98782",
   "metadata": {},
   "outputs": [
    {
     "data": {
      "text/latex": [
       "$- D + Δv^{2} \\left(α + β\\right)$"
      ],
      "text/plain": [
       "       2        \n",
       "-D + Δv ⋅(α + β)"
      ]
     },
     "execution_count": 73,
     "metadata": {},
     "output_type": "execute_result"
    }
   ],
   "source": [
    "eq1 = Δv*(α - β) - (γ * v)/m\n",
    "eq2 = (Δv^2)*(α + β) - D"
   ]
  },
  {
   "cell_type": "code",
   "execution_count": 75,
   "id": "9b188932-d8ff-4cf0-a4c2-ac5d4d905a92",
   "metadata": {},
   "outputs": [
    {
     "data": {
      "text/plain": [
       "1-element Vector{Sym{PyCall.PyObject}}:\n",
       " β + v*γ/(m*Δv)"
      ]
     },
     "execution_count": 75,
     "metadata": {},
     "output_type": "execute_result"
    }
   ],
   "source": [
    "sol1 = solve(eq1, α)"
   ]
  },
  {
   "cell_type": "code",
   "execution_count": 88,
   "id": "fdbaf626-c9ba-4d76-82f4-c6bf078a8e2e",
   "metadata": {},
   "outputs": [
    {
     "data": {
      "text/latex": [
       "$- D + Δv^{2} \\cdot \\left(2 β + \\frac{v γ}{m Δv}\\right)$"
      ],
      "text/plain": [
       "       2 ⎛      v⋅γ ⎞\n",
       "-D + Δv ⋅⎜2⋅β + ────⎟\n",
       "         ⎝      m⋅Δv⎠"
      ]
     },
     "execution_count": 88,
     "metadata": {},
     "output_type": "execute_result"
    }
   ],
   "source": [
    "exp1 = eq2(α => sol1)\n",
    "exp1 = -D + (Δv^2) * (2*β + (γ*v)/(m*Δv)) #Why do I need to specify it!\n",
    "# Doesn't work if I don't!!!!!!!!!"
   ]
  },
  {
   "cell_type": "code",
   "execution_count": 97,
   "id": "af27f4ac-ec96-470b-bb62-b925f264dba7",
   "metadata": {},
   "outputs": [
    {
     "data": {
      "text/latex": [
       "$\\frac{D m - v Δv γ}{2 m Δv^{2}}$"
      ],
      "text/plain": [
       "D⋅m - v⋅Δv⋅γ\n",
       "────────────\n",
       "        2   \n",
       "  2⋅m⋅Δv    "
      ]
     },
     "execution_count": 97,
     "metadata": {},
     "output_type": "execute_result"
    }
   ],
   "source": [
    "sol2 = solve(exp1, β)\n",
    "β_sol = sol2[1]"
   ]
  },
  {
   "cell_type": "code",
   "execution_count": 96,
   "id": "eafc8c5e-536a-49f5-91c0-d8db7ebb5b01",
   "metadata": {},
   "outputs": [
    {
     "data": {
      "text/latex": [
       "$Δv \\left(α + \\frac{- D m + v Δv γ}{2 m Δv^{2}}\\right) - \\frac{v γ}{m}$"
      ],
      "text/plain": [
       "   ⎛    -D⋅m + v⋅Δv⋅γ⎞   v⋅γ\n",
       "Δv⋅⎜α + ─────────────⎟ - ───\n",
       "   ⎜             2   ⎟    m \n",
       "   ⎝       2⋅m⋅Δv    ⎠      "
      ]
     },
     "execution_count": 96,
     "metadata": {},
     "output_type": "execute_result"
    }
   ],
   "source": [
    "α_exp = eq1(β => sol2)\n",
    "α_exp = Δv * (α + (-(D*m - v*γ*Δv)/(2*m*(Δv^2)))) - (v*γ)/m"
   ]
  },
  {
   "cell_type": "code",
   "execution_count": 99,
   "id": "3828fb30-4e42-4118-aeab-dbc19ce28497",
   "metadata": {},
   "outputs": [
    {
     "data": {
      "text/latex": [
       "$\\frac{D m + v Δv γ}{2 m Δv^{2}}$"
      ],
      "text/plain": [
       "D⋅m + v⋅Δv⋅γ\n",
       "────────────\n",
       "        2   \n",
       "  2⋅m⋅Δv    "
      ]
     },
     "execution_count": 99,
     "metadata": {},
     "output_type": "execute_result"
    }
   ],
   "source": [
    "α_sol = solve(α_exp, α)\n",
    "α_sol[1]"
   ]
  }
 ],
 "metadata": {
  "kernelspec": {
   "display_name": "Julia 1.9.4",
   "language": "julia",
   "name": "julia-1.9"
  },
  "language_info": {
   "file_extension": ".jl",
   "mimetype": "application/julia",
   "name": "julia",
   "version": "1.9.4"
  }
 },
 "nbformat": 4,
 "nbformat_minor": 5
}
