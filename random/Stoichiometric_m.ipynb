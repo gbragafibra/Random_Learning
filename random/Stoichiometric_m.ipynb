{
 "cells": [
  {
   "cell_type": "code",
   "execution_count": 1,
   "id": "9fd1e09b-1365-4964-bc89-efa887de1098",
   "metadata": {},
   "outputs": [],
   "source": [
    "import numpy as np"
   ]
  },
  {
   "cell_type": "code",
   "execution_count": 67,
   "id": "d02a039d-cca3-49e9-8af5-6c7f4ab28d91",
   "metadata": {},
   "outputs": [
    {
     "data": {
      "text/plain": [
       "array([[ -1. ],\n",
       "       [-10.8],\n",
       "       [  3.9],\n",
       "       [ -0.8]])"
      ]
     },
     "execution_count": 67,
     "metadata": {},
     "output_type": "execute_result"
    }
   ],
   "source": [
    "N = np.array([[1, -1, -1, -1, 0, 0, 0],\n",
    "             [0, 2, 0, 0, -2, -1, 0],\n",
    "             [0, 0, 1, -1, 1, 0, 0],\n",
    "             [0, 0, 0, 1, 0, 0, -1]])\n",
    "v = np.array([[0.5, 0.2, 0.1, 1.2, 5, 1.2, 2]]) # Fluxes' values\n",
    "dX = np.dot(N, v.T)\n",
    "dX # Change in concentration of each specie"
   ]
  },
  {
   "cell_type": "code",
   "execution_count": 21,
   "id": "3c2813d2-78e4-434f-83e0-2d76cc7464c0",
   "metadata": {},
   "outputs": [
    {
     "data": {
      "text/plain": [
       "array([[-1, -1,  0,  1, -1,  0,  0],\n",
       "       [ 2,  0, -2,  0,  0, -1,  0],\n",
       "       [ 0, -1,  1,  0,  1,  0,  0],\n",
       "       [ 0,  1,  0,  0,  0,  0, -1]])"
      ]
     },
     "execution_count": 21,
     "metadata": {},
     "output_type": "execute_result"
    }
   ],
   "source": [
    "# v2, v4 and v5 are independent fluxes\n",
    "# idx - 1\n",
    "order = np.array([1, 3, 4, 0, 2, 5, 6])\n",
    "N_new = N[:, order]\n",
    "N_new"
   ]
  },
  {
   "cell_type": "code",
   "execution_count": 24,
   "id": "742a1852-c51d-4eb9-8e04-797406c36905",
   "metadata": {},
   "outputs": [],
   "source": [
    "N_I = N_new[:, [0,1,2]]\n",
    "N_D = N_new[:, [3,4,5,6]]"
   ]
  },
  {
   "cell_type": "code",
   "execution_count": 33,
   "id": "a02f152e-b486-453f-885a-db33957143b1",
   "metadata": {},
   "outputs": [
    {
     "data": {
      "text/plain": [
       "array([[ 1.,  0.,  1.,  0.],\n",
       "       [ 0.,  0.,  1.,  0.],\n",
       "       [ 0., -1.,  0.,  0.],\n",
       "       [ 0.,  0.,  0., -1.]])"
      ]
     },
     "execution_count": 33,
     "metadata": {},
     "output_type": "execute_result"
    }
   ],
   "source": [
    "N_D_plus = np.dot(np.linalg.inv(np.dot(N_D.T, N_D)), N_D.T)\n",
    "N_D_plus"
   ]
  },
  {
   "cell_type": "code",
   "execution_count": 39,
   "id": "91d3327d-730b-45f2-b225-835af609fa01",
   "metadata": {},
   "outputs": [
    {
     "data": {
      "text/plain": [
       "array([[5.7],\n",
       "       [2.2],\n",
       "       [1.4],\n",
       "       [2.5]])"
      ]
     },
     "execution_count": 39,
     "metadata": {},
     "output_type": "execute_result"
    }
   ],
   "source": [
    "v_I = np.array([[1, 2.5, 0.3]])\n",
    "v_D = - np.dot(np.dot(N_D_plus, N_I), v_I.T)\n",
    "v_D"
   ]
  },
  {
   "cell_type": "code",
   "execution_count": 40,
   "id": "42ff958f-ac8b-443e-838d-d1516ee6274d",
   "metadata": {},
   "outputs": [
    {
     "data": {
      "text/plain": [
       "4"
      ]
     },
     "execution_count": 40,
     "metadata": {},
     "output_type": "execute_result"
    }
   ],
   "source": [
    "np.linalg.matrix_rank(N)"
   ]
  },
  {
   "cell_type": "code",
   "execution_count": 58,
   "id": "3cb39d15-fc22-4cff-95ed-f6e99800b8a0",
   "metadata": {},
   "outputs": [
    {
     "data": {
      "text/plain": [
       "array([[ 0.0633458 ,  0.286476  ,  0.7297092 ],\n",
       "       [ 0.55918008,  0.31553498,  0.01124518],\n",
       "       [-0.5504092 ,  0.04950927,  0.31090256],\n",
       "       [ 0.05457492, -0.07856825,  0.40756145],\n",
       "       [ 0.60498412, -0.12807753,  0.09665889],\n",
       "       [-0.09160809,  0.88722501, -0.17082742],\n",
       "       [ 0.05457492, -0.07856825,  0.40756145]])"
      ]
     },
     "execution_count": 58,
     "metadata": {},
     "output_type": "execute_result"
    }
   ],
   "source": [
    "from scipy.linalg import null_space\n",
    "C = null_space(N)\n",
    "C"
   ]
  },
  {
   "cell_type": "code",
   "execution_count": 59,
   "id": "7de9bfa0-e960-4f96-a63a-cd28bf730480",
   "metadata": {},
   "outputs": [
    {
     "data": {
      "text/plain": [
       "array([[ 1.24900090e-16, -4.16333634e-17, -1.11022302e-16],\n",
       "       [-1.11022302e-16, -2.22044605e-16,  2.77555756e-17],\n",
       "       [ 1.11022302e-16, -5.55111512e-17, -2.49800181e-16],\n",
       "       [-9.02056208e-17,  5.55111512e-17,  2.22044605e-16]])"
      ]
     },
     "execution_count": 59,
     "metadata": {},
     "output_type": "execute_result"
    }
   ],
   "source": [
    "np.dot(N, C) #should ~ 0"
   ]
  },
  {
   "cell_type": "code",
   "execution_count": 62,
   "id": "6de47962-e19c-4fb7-9d76-f9e2e383e768",
   "metadata": {},
   "outputs": [
    {
     "data": {
      "text/plain": [
       "0"
      ]
     },
     "execution_count": 62,
     "metadata": {},
     "output_type": "execute_result"
    }
   ],
   "source": [
    "n_conserv = np.linalg.matrix_rank(N) - 4 #4 is the number of species\n",
    "n_conserv"
   ]
  },
  {
   "cell_type": "code",
   "execution_count": 75,
   "id": "18fc272a-58ca-4bd9-a494-195afc2e6bce",
   "metadata": {},
   "outputs": [
    {
     "name": "stdout",
     "output_type": "stream",
     "text": [
      "[[-1  1  0  0]]\n"
     ]
    }
   ],
   "source": [
    "N = np.array([[-1, 1, 0, 0],\n",
    "             [1, -1, 0, 0],\n",
    "             [1, 0, -1, 0],\n",
    "             [0, -1, 0, 1]])\n",
    "λ, λ_vec = np.linalg.eig(N.T)\n",
    "print(f\"{N[λ == 0,:]}\") #Where's the other dependent row?"
   ]
  },
  {
   "cell_type": "code",
   "execution_count": 80,
   "id": "0b93dc45-b578-4085-9434-342bf2da5acf",
   "metadata": {},
   "outputs": [
    {
     "data": {
      "text/plain": [
       "1"
      ]
     },
     "execution_count": 80,
     "metadata": {},
     "output_type": "execute_result"
    }
   ],
   "source": [
    "n_conserv = N.shape[0] - np.linalg.matrix_rank(N)\n",
    "n_conserv # 1 conservation relationship"
   ]
  },
  {
   "cell_type": "code",
   "execution_count": 97,
   "id": "ed0fbd6c-b45c-42ae-9c8a-20f7d673cbfa",
   "metadata": {},
   "outputs": [
    {
     "data": {
      "text/plain": [
       "array([[0.5 , 0.6 , 0.25, 1.15],\n",
       "       [0.5 , 0.6 , 0.25, 1.15],\n",
       "       [0.5 , 0.6 , 0.25, 1.15],\n",
       "       [0.5 , 0.6 , 0.25, 1.15]])"
      ]
     },
     "execution_count": 97,
     "metadata": {},
     "output_type": "execute_result"
    }
   ],
   "source": [
    "C = null_space(N)\n",
    "#Given an initial concentration vector\n",
    "X = np.array([[1, 1.2, 0.5, 2.3]])\n",
    "R = np.dot(C, X)\n",
    "R #Conservation relationships?"
   ]
  }
 ],
 "metadata": {
  "kernelspec": {
   "display_name": "Python 3 (ipykernel)",
   "language": "python",
   "name": "python3"
  },
  "language_info": {
   "codemirror_mode": {
    "name": "ipython",
    "version": 3
   },
   "file_extension": ".py",
   "mimetype": "text/x-python",
   "name": "python",
   "nbconvert_exporter": "python",
   "pygments_lexer": "ipython3",
   "version": "3.10.13"
  }
 },
 "nbformat": 4,
 "nbformat_minor": 5
}
