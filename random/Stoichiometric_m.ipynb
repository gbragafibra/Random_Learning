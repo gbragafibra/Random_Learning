{
 "cells": [
  {
   "cell_type": "code",
   "execution_count": 1,
   "id": "9fd1e09b-1365-4964-bc89-efa887de1098",
   "metadata": {},
   "outputs": [],
   "source": [
    "import numpy as np"
   ]
  },
  {
   "cell_type": "code",
   "execution_count": 2,
   "id": "d02a039d-cca3-49e9-8af5-6c7f4ab28d91",
   "metadata": {},
   "outputs": [
    {
     "data": {
      "text/plain": [
       "array([[ -1. ],\n",
       "       [-10.8],\n",
       "       [  3.9],\n",
       "       [ -0.8]])"
      ]
     },
     "execution_count": 2,
     "metadata": {},
     "output_type": "execute_result"
    }
   ],
   "source": [
    "N = np.array([[1, -1, -1, -1, 0, 0, 0],\n",
    "             [0, 2, 0, 0, -2, -1, 0],\n",
    "             [0, 0, 1, -1, 1, 0, 0],\n",
    "             [0, 0, 0, 1, 0, 0, -1]])\n",
    "v = np.array([[0.5, 0.2, 0.1, 1.2, 5, 1.2, 2]]) # Fluxes' values\n",
    "dX = np.dot(N, v.T)\n",
    "dX # Change in concentration of each specie"
   ]
  },
  {
   "cell_type": "code",
   "execution_count": 3,
   "id": "3c2813d2-78e4-434f-83e0-2d76cc7464c0",
   "metadata": {},
   "outputs": [
    {
     "data": {
      "text/plain": [
       "array([[-1, -1,  0,  1, -1,  0,  0],\n",
       "       [ 2,  0, -2,  0,  0, -1,  0],\n",
       "       [ 0, -1,  1,  0,  1,  0,  0],\n",
       "       [ 0,  1,  0,  0,  0,  0, -1]])"
      ]
     },
     "execution_count": 3,
     "metadata": {},
     "output_type": "execute_result"
    }
   ],
   "source": [
    "# v2, v4 and v5 are independent fluxes\n",
    "# idx - 1\n",
    "order = np.array([1, 3, 4, 0, 2, 5, 6])\n",
    "N_new = N[:, order]\n",
    "N_new"
   ]
  },
  {
   "cell_type": "code",
   "execution_count": 4,
   "id": "742a1852-c51d-4eb9-8e04-797406c36905",
   "metadata": {},
   "outputs": [],
   "source": [
    "N_I = N_new[:, [0,1,2]]\n",
    "N_D = N_new[:, [3,4,5,6]]"
   ]
  },
  {
   "cell_type": "code",
   "execution_count": 5,
   "id": "a02f152e-b486-453f-885a-db33957143b1",
   "metadata": {},
   "outputs": [
    {
     "data": {
      "text/plain": [
       "array([[ 1.,  0.,  1.,  0.],\n",
       "       [ 0.,  0.,  1.,  0.],\n",
       "       [ 0., -1.,  0.,  0.],\n",
       "       [ 0.,  0.,  0., -1.]])"
      ]
     },
     "execution_count": 5,
     "metadata": {},
     "output_type": "execute_result"
    }
   ],
   "source": [
    "N_D_plus = np.dot(np.linalg.inv(np.dot(N_D.T, N_D)), N_D.T)\n",
    "N_D_plus"
   ]
  },
  {
   "cell_type": "code",
   "execution_count": 6,
   "id": "91d3327d-730b-45f2-b225-835af609fa01",
   "metadata": {},
   "outputs": [
    {
     "data": {
      "text/plain": [
       "array([[5.7],\n",
       "       [2.2],\n",
       "       [1.4],\n",
       "       [2.5]])"
      ]
     },
     "execution_count": 6,
     "metadata": {},
     "output_type": "execute_result"
    }
   ],
   "source": [
    "v_I = np.array([[1, 2.5, 0.3]])\n",
    "v_D = - np.dot(np.dot(N_D_plus, N_I), v_I.T)\n",
    "v_D"
   ]
  },
  {
   "cell_type": "code",
   "execution_count": 7,
   "id": "42ff958f-ac8b-443e-838d-d1516ee6274d",
   "metadata": {},
   "outputs": [
    {
     "data": {
      "text/plain": [
       "4"
      ]
     },
     "execution_count": 7,
     "metadata": {},
     "output_type": "execute_result"
    }
   ],
   "source": [
    "np.linalg.matrix_rank(N) # Expecting 0 conservation relationships"
   ]
  },
  {
   "cell_type": "code",
   "execution_count": 8,
   "id": "3cb39d15-fc22-4cff-95ed-f6e99800b8a0",
   "metadata": {},
   "outputs": [
    {
     "data": {
      "text/plain": [
       "array([], shape=(4, 0), dtype=float64)"
      ]
     },
     "execution_count": 8,
     "metadata": {},
     "output_type": "execute_result"
    }
   ],
   "source": [
    "from scipy.linalg import null_space\n",
    "C = null_space(N.T)\n",
    "C # Agrees with the 0 c.r. predicted"
   ]
  },
  {
   "cell_type": "code",
   "execution_count": 9,
   "id": "7de9bfa0-e960-4f96-a63a-cd28bf730480",
   "metadata": {},
   "outputs": [
    {
     "ename": "ValueError",
     "evalue": "shapes (4,7) and (4,0) not aligned: 7 (dim 1) != 4 (dim 0)",
     "output_type": "error",
     "traceback": [
      "\u001b[0;31m---------------------------------------------------------------------------\u001b[0m",
      "\u001b[0;31mValueError\u001b[0m                                Traceback (most recent call last)",
      "Cell \u001b[0;32mIn[9], line 1\u001b[0m\n\u001b[0;32m----> 1\u001b[0m \u001b[43mnp\u001b[49m\u001b[38;5;241;43m.\u001b[39;49m\u001b[43mdot\u001b[49m\u001b[43m(\u001b[49m\u001b[43mN\u001b[49m\u001b[43m,\u001b[49m\u001b[43m \u001b[49m\u001b[43mC\u001b[49m\u001b[43m)\u001b[49m \u001b[38;5;66;03m#should ~ 0\u001b[39;00m\n",
      "File \u001b[0;32m<__array_function__ internals>:200\u001b[0m, in \u001b[0;36mdot\u001b[0;34m(*args, **kwargs)\u001b[0m\n",
      "\u001b[0;31mValueError\u001b[0m: shapes (4,7) and (4,0) not aligned: 7 (dim 1) != 4 (dim 0)"
     ]
    }
   ],
   "source": [
    "np.dot(N, C) #should ~ 0 ; it is"
   ]
  },
  {
   "cell_type": "code",
   "execution_count": 62,
   "id": "6de47962-e19c-4fb7-9d76-f9e2e383e768",
   "metadata": {},
   "outputs": [
    {
     "data": {
      "text/plain": [
       "0"
      ]
     },
     "execution_count": 62,
     "metadata": {},
     "output_type": "execute_result"
    }
   ],
   "source": [
    "n_conserv = np.linalg.matrix_rank(N) - 4 #4 is the number of species\n",
    "n_conserv"
   ]
  },
  {
   "cell_type": "code",
   "execution_count": 10,
   "id": "18fc272a-58ca-4bd9-a494-195afc2e6bce",
   "metadata": {},
   "outputs": [
    {
     "name": "stdout",
     "output_type": "stream",
     "text": [
      "[[-1  1  0  0]]\n"
     ]
    }
   ],
   "source": [
    "N = np.array([[-1, 1, 0, 0],\n",
    "             [1, -1, 0, 0],\n",
    "             [1, 0, -1, 0],\n",
    "             [0, -1, 0, 1]])\n",
    "λ, λ_vec = np.linalg.eig(N.T)\n",
    "print(f\"{N[λ == 0,:]}\") #Where's the other dependent row?"
   ]
  },
  {
   "cell_type": "code",
   "execution_count": 11,
   "id": "0b93dc45-b578-4085-9434-342bf2da5acf",
   "metadata": {},
   "outputs": [
    {
     "data": {
      "text/plain": [
       "1"
      ]
     },
     "execution_count": 11,
     "metadata": {},
     "output_type": "execute_result"
    }
   ],
   "source": [
    "n_conserv = N.shape[0] - np.linalg.matrix_rank(N)\n",
    "n_conserv # 1 conservation relationship"
   ]
  },
  {
   "cell_type": "code",
   "execution_count": 14,
   "id": "ed0fbd6c-b45c-42ae-9c8a-20f7d673cbfa",
   "metadata": {},
   "outputs": [
    {
     "data": {
      "text/plain": [
       "array([[-7.07106781e-01],\n",
       "       [-7.07106781e-01],\n",
       "       [-5.55111512e-17],\n",
       "       [-1.11022302e-16]])"
      ]
     },
     "execution_count": 14,
     "metadata": {},
     "output_type": "execute_result"
    }
   ],
   "source": [
    "C = null_space(N.T)\n",
    "C #This is my conservation relationship"
   ]
  }
 ],
 "metadata": {
  "kernelspec": {
   "display_name": "Python 3 (ipykernel)",
   "language": "python",
   "name": "python3"
  },
  "language_info": {
   "codemirror_mode": {
    "name": "ipython",
    "version": 3
   },
   "file_extension": ".py",
   "mimetype": "text/x-python",
   "name": "python",
   "nbconvert_exporter": "python",
   "pygments_lexer": "ipython3",
   "version": "3.10.13"
  }
 },
 "nbformat": 4,
 "nbformat_minor": 5
}
